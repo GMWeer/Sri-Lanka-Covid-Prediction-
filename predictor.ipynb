{
 "cells": [
  {
   "cell_type": "code",
   "execution_count": 1,
   "metadata": {},
   "outputs": [],
   "source": [
    "import joblib\n",
    "\n",
    "model=joblib.load(r'C:\\Users\\HP i5\\Downloads\\SL Covid-risk-reg-model.sav')"
   ]
  },
  {
   "cell_type": "code",
   "execution_count": 4,
   "metadata": {},
   "outputs": [
    {
     "name": "stdout",
     "output_type": "stream",
     "text": [
      "Test Covid number : [[6789]]\n",
      "Positive number : 436\n"
     ]
    }
   ],
   "source": [
    "test_data=[[6789]]\n",
    "result=model.predict(test_data)\n",
    "print (\"Test Covid number :\",test_data)\n",
    "if result < 0 :\n",
    "    print (\"Positive number :\", 0)\n",
    "else :\n",
    "    print (\"Positive number :\",int(result))"
   ]
  },
  {
   "cell_type": "code",
   "execution_count": null,
   "metadata": {},
   "outputs": [],
   "source": []
  }
 ],
 "metadata": {
  "kernelspec": {
   "display_name": "Python 3",
   "language": "python",
   "name": "python3"
  },
  "language_info": {
   "codemirror_mode": {
    "name": "ipython",
    "version": 3
   },
   "file_extension": ".py",
   "mimetype": "text/x-python",
   "name": "python",
   "nbconvert_exporter": "python",
   "pygments_lexer": "ipython3",
   "version": "3.8.5"
  }
 },
 "nbformat": 4,
 "nbformat_minor": 4
}
